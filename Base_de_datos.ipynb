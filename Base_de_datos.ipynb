{
  "nbformat": 4,
  "nbformat_minor": 0,
  "metadata": {
    "colab": {
      "provenance": [],
      "authorship_tag": "ABX9TyMjshrLtS+3ZbjeoUVdjcMc",
      "include_colab_link": true
    },
    "kernelspec": {
      "name": "python3",
      "display_name": "Python 3"
    },
    "language_info": {
      "name": "python"
    }
  },
  "cells": [
    {
      "cell_type": "markdown",
      "metadata": {
        "id": "view-in-github",
        "colab_type": "text"
      },
      "source": [
        "<a href=\"https://colab.research.google.com/github/alexisrisaldi/prueba/blob/master/Base_de_datos.ipynb\" target=\"_parent\"><img src=\"https://colab.research.google.com/assets/colab-badge.svg\" alt=\"Open In Colab\"/></a>"
      ]
    },
    {
      "cell_type": "code",
      "execution_count": null,
      "metadata": {
        "id": "bAsJucgg3rQf"
      },
      "outputs": [],
      "source": [
        "# 1. Instalar librerías si no están\n",
        "!pip install openpyxl"
      ]
    },
    {
      "cell_type": "code",
      "source": [
        "# 2. Importar librerías\n",
        "import pandas as pd\n",
        "from google.colab import files"
      ],
      "metadata": {
        "id": "Vn7Z5nf830Mr"
      },
      "execution_count": 32,
      "outputs": []
    },
    {
      "cell_type": "code",
      "source": [
        "# 4. Leer el archivo CSV\n",
        "df = pd.read_excel(\"holaa.xlsx\")"
      ],
      "metadata": {
        "id": "85_t7e5r31R7"
      },
      "execution_count": 47,
      "outputs": []
    },
    {
      "cell_type": "code",
      "source": [
        "# 5. Separar autores e IDs en listas\n",
        "df[\"author_list\"] = df[\"Authors\"].str.split(\";\")\n",
        "df[\"id_list\"] = df[\"Author(s) ID\"].str.split(\";\")"
      ],
      "metadata": {
        "id": "5a5QD8qj4Wwv"
      },
      "execution_count": 36,
      "outputs": []
    },
    {
      "cell_type": "code",
      "source": [
        "# 6. Verificar si están alineados\n",
        "df[\"same_length\"] = df.apply(lambda row: len(row[\"author_list\"]) == len(row[\"id_list\"]), axis=1)"
      ],
      "metadata": {
        "id": "indzQdBT4c5Q"
      },
      "execution_count": 37,
      "outputs": []
    },
    {
      "cell_type": "code",
      "source": [
        "# Ver cuántas filas están alineadas y cuántas no\n",
        "df[\"same_length\"].value_counts()\n"
      ],
      "metadata": {
        "id": "QpfXjYoD4rXy"
      },
      "execution_count": null,
      "outputs": []
    },
    {
      "cell_type": "code",
      "source": [
        "# 7. Filtrar solo las filas bien alineadas\n",
        "df_clean = df[df[\"same_length\"] == True].copy()"
      ],
      "metadata": {
        "id": "CUFRkGLO4spS"
      },
      "execution_count": 39,
      "outputs": []
    },
    {
      "cell_type": "code",
      "source": [
        "# 8. Explode para generar una fila por autor\n",
        "df_clean = df_clean.explode([\"author_list\", \"id_list\"])"
      ],
      "metadata": {
        "id": "0OKMqFMA5HM3"
      },
      "execution_count": 40,
      "outputs": []
    },
    {
      "cell_type": "code",
      "source": [
        "# 9. Limpiar espacios\n",
        "df_clean[\"author_list\"] = df_clean[\"author_list\"].str.strip()\n",
        "df_clean[\"id_list\"] = df_clean[\"id_list\"].str.strip()"
      ],
      "metadata": {
        "id": "NY19ram35Kxz"
      },
      "execution_count": 41,
      "outputs": []
    },
    {
      "cell_type": "code",
      "source": [
        "# 10. Reemplazar columnas originales por las nuevas\n",
        "df_clean[\"Authors\"] = df_clean[\"author_list\"]\n",
        "df_clean[\"Author(s) ID\"] = df_clean[\"id_list\"]"
      ],
      "metadata": {
        "id": "OhTXAe-D5QqE"
      },
      "execution_count": 42,
      "outputs": []
    },
    {
      "cell_type": "code",
      "source": [
        "# 11. Eliminar columnas auxiliares\n",
        "df_clean.drop(columns=[\"author_list\", \"id_list\", \"same_length\"], inplace=True)"
      ],
      "metadata": {
        "id": "Eo52F5El5U8M"
      },
      "execution_count": 43,
      "outputs": []
    },
    {
      "cell_type": "code",
      "source": [
        "# 12. Mostrar conteos\n",
        "print(\"✅ Total de filas (una por autor):\", len(df_clean))\n",
        "print(\"📚 Total de artículos únicos:\", df_clean[\"Title\"].nunique())\n"
      ],
      "metadata": {
        "colab": {
          "base_uri": "https://localhost:8080/"
        },
        "id": "lx26n70E5qHU",
        "outputId": "fa0d0a1c-c839-4ee1-9fcc-5c405463be7a"
      },
      "execution_count": 44,
      "outputs": [
        {
          "output_type": "stream",
          "name": "stdout",
          "text": [
            "✅ Total de filas (una por autor): 4\n",
            "📚 Total de artículos únicos: 1\n"
          ]
        }
      ]
    },
    {
      "cell_type": "code",
      "source": [
        "# 13. Exportar a Excel (misma estructura que original)\n",
        "df_clean.to_excel(\"scopus_autores_por_fila.xlsx\", index=False)\n"
      ],
      "metadata": {
        "id": "NCgMaTlI8-g2"
      },
      "execution_count": 45,
      "outputs": []
    },
    {
      "cell_type": "code",
      "source": [
        "# 14. Descargar archivo\n",
        "files.download(\"scopus_autores_por_fila.xlsx\")"
      ],
      "metadata": {
        "colab": {
          "base_uri": "https://localhost:8080/",
          "height": 17
        },
        "id": "exUTVNKN9Bik",
        "outputId": "a53dd611-d9ee-48a6-9822-8603a66a3f60"
      },
      "execution_count": 46,
      "outputs": [
        {
          "output_type": "display_data",
          "data": {
            "text/plain": [
              "<IPython.core.display.Javascript object>"
            ],
            "application/javascript": [
              "\n",
              "    async function download(id, filename, size) {\n",
              "      if (!google.colab.kernel.accessAllowed) {\n",
              "        return;\n",
              "      }\n",
              "      const div = document.createElement('div');\n",
              "      const label = document.createElement('label');\n",
              "      label.textContent = `Downloading \"${filename}\": `;\n",
              "      div.appendChild(label);\n",
              "      const progress = document.createElement('progress');\n",
              "      progress.max = size;\n",
              "      div.appendChild(progress);\n",
              "      document.body.appendChild(div);\n",
              "\n",
              "      const buffers = [];\n",
              "      let downloaded = 0;\n",
              "\n",
              "      const channel = await google.colab.kernel.comms.open(id);\n",
              "      // Send a message to notify the kernel that we're ready.\n",
              "      channel.send({})\n",
              "\n",
              "      for await (const message of channel.messages) {\n",
              "        // Send a message to notify the kernel that we're ready.\n",
              "        channel.send({})\n",
              "        if (message.buffers) {\n",
              "          for (const buffer of message.buffers) {\n",
              "            buffers.push(buffer);\n",
              "            downloaded += buffer.byteLength;\n",
              "            progress.value = downloaded;\n",
              "          }\n",
              "        }\n",
              "      }\n",
              "      const blob = new Blob(buffers, {type: 'application/binary'});\n",
              "      const a = document.createElement('a');\n",
              "      a.href = window.URL.createObjectURL(blob);\n",
              "      a.download = filename;\n",
              "      div.appendChild(a);\n",
              "      a.click();\n",
              "      div.remove();\n",
              "    }\n",
              "  "
            ]
          },
          "metadata": {}
        },
        {
          "output_type": "display_data",
          "data": {
            "text/plain": [
              "<IPython.core.display.Javascript object>"
            ],
            "application/javascript": [
              "download(\"download_2fd8ce2f-86c2-4371-b380-dbffa8728a10\", \"scopus_autores_por_fila.xlsx\", 5791)"
            ]
          },
          "metadata": {}
        }
      ]
    }
  ]
}