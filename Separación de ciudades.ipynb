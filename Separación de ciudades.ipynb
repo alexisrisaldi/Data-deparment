{
  "nbformat": 4,
  "nbformat_minor": 0,
  "metadata": {
    "colab": {
      "provenance": [],
      "include_colab_link": true
    },
    "kernelspec": {
      "name": "python3",
      "display_name": "Python 3"
    },
    "language_info": {
      "name": "python"
    }
  },
  "cells": [
    {
      "cell_type": "markdown",
      "metadata": {
        "id": "view-in-github",
        "colab_type": "text"
      },
      "source": [
        "<a href=\"https://colab.research.google.com/github/alexisrisaldi/prueba/blob/master/Separaci%C3%B3n%20de%20ciudades.ipynb\" target=\"_parent\"><img src=\"https://colab.research.google.com/assets/colab-badge.svg\" alt=\"Open In Colab\"/></a>"
      ]
    },
    {
      "cell_type": "code",
      "execution_count": null,
      "metadata": {
        "id": "KNDWqCojCr_j"
      },
      "outputs": [],
      "source": [
        "import pandas as pd\n",
        "\n",
        "# Load cleaned Excel file\n",
        "df = pd.read_excel(\"output_excel.xlsx\", parse_dates=[\"Snapshot date\"])\n",
        "\n",
        "# Cargar el archivo con los identificadores a unir\n",
        "df_unificar = pd.read_excel(\"Unificar.xlsx\")\n"
      ]
    },
    {
      "cell_type": "code",
      "source": [
        "#verificar si ambos tienen el mismo tipo de dato\n",
        "df['Survey Id'].dtype\n",
        "df_unificar['Snapshot Id'].dtype"
      ],
      "metadata": {
        "colab": {
          "base_uri": "https://localhost:8080/"
        },
        "id": "eVZg88ocdflX",
        "outputId": "7f799cad-b394-4c9c-b543-6d362817dfe2"
      },
      "execution_count": null,
      "outputs": [
        {
          "output_type": "execute_result",
          "data": {
            "text/plain": [
              "dtype('int64')"
            ]
          },
          "metadata": {},
          "execution_count": 8
        }
      ]
    },
    {
      "cell_type": "code",
      "source": [
        "# Renombrar columna para que coincida con 'Survey Id'\n",
        "df_unificar = df_unificar.rename(columns={\"Snapshot Id\": \"Survey Id\"})"
      ],
      "metadata": {
        "id": "rcys2uGLddHZ"
      },
      "execution_count": null,
      "outputs": []
    },
    {
      "cell_type": "code",
      "source": [
        "# Display the first few rows of the DataFrame 'df_unificar'\n",
        "print(df_unificar.head())\n"
      ],
      "metadata": {
        "colab": {
          "base_uri": "https://localhost:8080/"
        },
        "id": "t7EAxl_ffADH",
        "outputId": "21580f3e-36ec-4858-cce1-f8a1e79b1e10"
      },
      "execution_count": null,
      "outputs": [
        {
          "output_type": "stream",
          "name": "stdout",
          "text": [
            "   Survey Id  Unique Identifier\n",
            "0     467823              97081\n",
            "1     467824              97121\n",
            "2     467825              97066\n",
            "3     467826              97109\n",
            "4     467827              97092\n"
          ]
        }
      ]
    },
    {
      "cell_type": "code",
      "source": [
        "# Realizar el left join y sobrescribir el DataFrame original\n",
        "df = pd.merge(df, df_unificar, on=\"Survey Id\", how=\"left\")"
      ],
      "metadata": {
        "id": "QIVPbU_4ehiR"
      },
      "execution_count": null,
      "outputs": []
    },
    {
      "cell_type": "code",
      "source": [
        "#verificar si se se hizo el join\n",
        "print(df.head())"
      ],
      "metadata": {
        "id": "kJWdOlppfSsP"
      },
      "execution_count": null,
      "outputs": []
    },
    {
      "cell_type": "code",
      "source": [
        "# Get actual survey sequences for each family\n",
        "def check_missing_surveys(group):\n",
        "    expected = list(range(1, group['Survey Number'].max() + 1))\n",
        "    actual = sorted(group['Survey Number'].unique())\n",
        "    missing = set(expected) - set(actual)\n",
        "    if missing:\n",
        "        return pd.Series({'Missing Surveys': sorted(missing)})\n",
        "    return pd.Series({'Missing Surveys': None})\n",
        "\n",
        "missing_surveys = df.groupby(\"Family Id\").apply(check_missing_surveys).dropna()\n",
        "missing_surveys.reset_index(inplace=True)\n",
        "\n",
        "missing_surveys.to_excel(\"families_with_missing_surveys.xlsx\", index=False)"
      ],
      "metadata": {
        "id": "LjjDsjkLECdw"
      },
      "execution_count": null,
      "outputs": []
    },
    {
      "cell_type": "code",
      "source": [
        "survey_cols = [\n",
        "    \"accessToCredit\", \"accessToEntertainment\", \"accessToHealthServices\", \"accessToInternet\",\n",
        "    \"alimentation\", \"autonomyDecisions\", \"awarenessOfNeeds\", \"capacityToPlanAndBudget\",\n",
        "    \"clothingAndFootwear\", \"comfortOfTheHome\", \"covid_homeEducation\", \"covid_technology\",\n",
        "    \"diversifiedSourcesOfIncome\", \"documentation\", \"drinkingWaterAccess\", \"electricityAccess\",\n",
        "    \"familySavings\", \"garbageDisposal\", \"income\", \"influenceInPublicSector\", \"insurance\",\n",
        "    \"middleEducation\", \"properKitchen\", \"readAndWrite\", \"refrigerator\",\n",
        "    \"registeredToVoteAndVotesInElections\", \"safeBathroom\", \"safeHouse\", \"safety\",\n",
        "    \"securityOfProperty\", \"selfEsteem\", \"separateBedrooms\", \"socialCapital\",\n",
        "    \"unpollutedEnvironment\", \"vaccinations\"\n",
        "]\n",
        "\n",
        "# Filter rows where any survey value is missing\n",
        "rows_with_missing_indicators = df[df[survey_cols].isnull().any(axis=1)]\n",
        "\n",
        "rows_with_missing_indicators.to_excel(\"rows_with_missing_indicators.xlsx\", index=False)"
      ],
      "metadata": {
        "id": "s3H6iuIqELr5"
      },
      "execution_count": null,
      "outputs": []
    },
    {
      "cell_type": "code",
      "source": [
        "df = df.dropna(subset=survey_cols).reset_index(drop=True)"
      ],
      "metadata": {
        "id": "fJWw-2q1Hatl"
      },
      "execution_count": null,
      "outputs": []
    },
    {
      "cell_type": "code",
      "source": [
        "# Sort and calculate date gaps\n",
        "df = df.sort_values([\"Family Id\", \"Snapshot date\"])\n",
        "df[\"Days_Since_Last_Survey\"] = df.groupby(\"Family Id\")[\"Snapshot date\"].diff().dt.days\n",
        "\n",
        "# Keep only surveys spaced at least 90 days apart\n",
        "filtered_df = df[(df[\"Days_Since_Last_Survey\"].isna()) | (df[\"Days_Since_Last_Survey\"] >= 90)]\n"
      ],
      "metadata": {
        "id": "5jLdIbuUEsfV"
      },
      "execution_count": null,
      "outputs": []
    },
    {
      "cell_type": "code",
      "source": [
        "filtered_df.to_excel(\"final_cleaned_survey_data.xlsx\", index=False)\n"
      ],
      "metadata": {
        "id": "qRrJDT40E5z9"
      },
      "execution_count": null,
      "outputs": []
    },
    {
      "cell_type": "markdown",
      "source": [
        "Segregating families by the number of survey's they took."
      ],
      "metadata": {
        "id": "tu8eX3iLJVdv"
      }
    },
    {
      "cell_type": "code",
      "source": [
        "# Count how many surveys each family took (after all cleaning)\n",
        "family_counts = df.groupby(\"Family Id\").size().reset_index(name=\"Survey_Count\")\n",
        "\n",
        "# Merge counts back to the main dataframe\n",
        "df_with_counts = df.merge(family_counts, on=\"Family Id\")\n",
        "\n",
        "# Loop through each survey count and export to individual files\n",
        "for count in sorted(df_with_counts[\"Survey_Count\"].unique()):\n",
        "    group_df = df_with_counts[df_with_counts[\"Survey_Count\"] == count]\n",
        "    filename = f\"families_with_{count}_surveys.xlsx\"\n",
        "    group_df.to_excel(filename, index=False)\n",
        "\n",
        "print(\"Exported families into separate files by number of surveys taken.\")\n"
      ],
      "metadata": {
        "colab": {
          "base_uri": "https://localhost:8080/"
        },
        "id": "fP2G7FEwZQE_",
        "outputId": "9f475c6c-12f7-4c07-c080-0ff0fbb6cf3d"
      },
      "execution_count": null,
      "outputs": [
        {
          "output_type": "stream",
          "name": "stdout",
          "text": [
            "Exported families into separate files by number of surveys taken.\n"
          ]
        }
      ]
    },
    {
      "cell_type": "code",
      "source": [
        "print(sorted(df_with_counts[\"Survey_Count\"].unique()))\n"
      ],
      "metadata": {
        "colab": {
          "base_uri": "https://localhost:8080/"
        },
        "id": "koLoYCB5byLh",
        "outputId": "1c5a44fb-af4f-4682-f02b-12bea742c8cd"
      },
      "execution_count": null,
      "outputs": [
        {
          "output_type": "stream",
          "name": "stdout",
          "text": [
            "[np.int64(1), np.int64(2), np.int64(3), np.int64(4), np.int64(5), np.int64(6), np.int64(7), np.int64(8), np.int64(9), np.int64(10), np.int64(11), np.int64(12), np.int64(13), np.int64(15), np.int64(17), np.int64(23)]\n"
          ]
        }
      ]
    }
  ]
}