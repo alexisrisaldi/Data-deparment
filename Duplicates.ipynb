{
  "nbformat": 4,
  "nbformat_minor": 0,
  "metadata": {
    "colab": {
      "provenance": [],
      "include_colab_link": true
    },
    "kernelspec": {
      "name": "python3",
      "display_name": "Python 3"
    },
    "language_info": {
      "name": "python"
    }
  },
  "cells": [
    {
      "cell_type": "markdown",
      "metadata": {
        "id": "view-in-github",
        "colab_type": "text"
      },
      "source": [
        "<a href=\"https://colab.research.google.com/github/alexisrisaldi/prueba/blob/master/Duplicates.ipynb\" target=\"_parent\"><img src=\"https://colab.research.google.com/assets/colab-badge.svg\" alt=\"Open In Colab\"/></a>"
      ]
    },
    {
      "cell_type": "code",
      "execution_count": null,
      "metadata": {
        "id": "QUvye-rJNjqY"
      },
      "outputs": [],
      "source": [
        "import pandas as pd\n",
        "\n",
        "# Leer archivo\n",
        "df = pd.read_excel('families_with_23_surveys.xlsx')"
      ]
    },
    {
      "cell_type": "code",
      "source": [
        "print(df.head())"
      ],
      "metadata": {
        "id": "QIa0p9jNBrEV"
      },
      "execution_count": null,
      "outputs": []
    },
    {
      "cell_type": "code",
      "source": [
        "# Asegurar que la fecha sea tipo datetime\n",
        "df['Snapshot date'] = pd.to_datetime(df['Snapshot date'])"
      ],
      "metadata": {
        "id": "XMd1_BbkSpEA"
      },
      "execution_count": null,
      "outputs": []
    },
    {
      "cell_type": "code",
      "source": [
        "print(df.dtypes)\n"
      ],
      "metadata": {
        "id": "NS9HAEsMB7Lp"
      },
      "execution_count": null,
      "outputs": []
    },
    {
      "cell_type": "code",
      "source": [
        "print(df.head())"
      ],
      "metadata": {
        "id": "cqxiiST3TSQ6"
      },
      "execution_count": null,
      "outputs": []
    },
    {
      "cell_type": "code",
      "source": [
        "# Asegurar que la fecha sea tipo datetime\n",
        "df['Snapshot date'] = pd.to_datetime(df['Snapshot date'])\n",
        "df['Snapshot date only'] = df['Snapshot date'].dt.date  # ESTA línea debe ir antes del sort\n"
      ],
      "metadata": {
        "id": "PRmB1KTDTQDG"
      },
      "execution_count": null,
      "outputs": []
    },
    {
      "cell_type": "code",
      "source": [
        "# Ordenar por familia y fecha\n",
        "df.sort_values(by=['Family Id', 'Snapshot date only'], inplace=True)"
      ],
      "metadata": {
        "id": "CUTP8k0_-9iv"
      },
      "execution_count": null,
      "outputs": []
    },
    {
      "cell_type": "markdown",
      "source": [
        "# Week 2 Work"
      ],
      "metadata": {
        "id": "czUh5_1YQ2pU"
      }
    },
    {
      "cell_type": "code",
      "source": [
        "survey_cols = [\n",
        "    \"accessToCredit\", \"accessToEntertainment\", \"accessToHealthServices\", \"accessToInternet\",\n",
        "    \"alimentation\", \"autonomyDecisions\", \"awarenessOfNeeds\", \"capacityToPlanAndBudget\",\n",
        "    \"clothingAndFootwear\", \"comfortOfTheHome\", \"covid_homeEducation\", \"covid_technology\",\n",
        "    \"diversifiedSourcesOfIncome\", \"documentation\", \"drinkingWaterAccess\", \"electricityAccess\",\n",
        "    \"familySavings\", \"garbageDisposal\", \"income\", \"influenceInPublicSector\", \"insurance\",\n",
        "    \"middleEducation\", \"properKitchen\", \"readAndWrite\", \"refrigerator\",\n",
        "    \"registeredToVoteAndVotesInElections\", \"safeBathroom\", \"safeHouse\", \"safety\",\n",
        "    \"securityOfProperty\", \"selfEsteem\", \"separateBedrooms\", \"socialCapital\",\n",
        "    \"unpollutedEnvironment\", \"vaccinations\"\n",
        "]"
      ],
      "metadata": {
        "id": "n3XhSoNouisw"
      },
      "execution_count": null,
      "outputs": []
    },
    {
      "cell_type": "code",
      "source": [
        "df[survey_cols] = df[survey_cols].astype(\"Int64\")\n"
      ],
      "metadata": {
        "id": "3mS-IfIhCcTd"
      },
      "execution_count": null,
      "outputs": []
    },
    {
      "cell_type": "code",
      "source": [
        "print(df.dtypes)\n"
      ],
      "metadata": {
        "id": "YIiQBFIvTCQl"
      },
      "execution_count": null,
      "outputs": []
    },
    {
      "cell_type": "code",
      "source": [
        "# Test Case 1: Mismo día, respuestas distintas\n",
        "same_day_diff_answers = df.groupby([\"Family Id\", \"Snapshot date only\"]).filter(\n",
        "    lambda x: len(x) > 1 and not x[survey_cols].nunique().eq(1).all()\n",
        ")"
      ],
      "metadata": {
        "id": "AwDL938Vyd3R"
      },
      "execution_count": null,
      "outputs": []
    },
    {
      "cell_type": "code",
      "source": [
        "# Test Case 2: Mismo día, respuestas iguales\n",
        "same_day_same_answers = df.groupby([\"Family Id\", \"Snapshot date only\"]).filter(\n",
        "    lambda x: len(x) > 1 and x[survey_cols].nunique().eq(1).all()\n",
        ")"
      ],
      "metadata": {
        "id": "ksMD7lYByh2z"
      },
      "execution_count": null,
      "outputs": []
    },
    {
      "cell_type": "code",
      "source": [],
      "metadata": {
        "id": "-ydgfwJ00zpO"
      },
      "execution_count": null,
      "outputs": []
    },
    {
      "cell_type": "code",
      "source": [
        "# Resultados resumen\n",
        "print(\"Resumen de Test Cases (ignorando hora):\")\n",
        "print(f\"➡️ Respuestas distintas el mismo día: {len(same_day_diff_answers)} filas, {same_day_diff_answers['Family Id'].nunique()} familias\")\n",
        "print(f\"✅ Respuestas iguales el mismo día: {len(same_day_same_answers)} filas, {same_day_same_answers['Family Id'].nunique()} familias\")"
      ],
      "metadata": {
        "colab": {
          "base_uri": "https://localhost:8080/"
        },
        "id": "2WfVWPb8ysR-",
        "outputId": "e389c96f-e9dc-4d78-fd99-56d602ebb9cb"
      },
      "execution_count": null,
      "outputs": [
        {
          "output_type": "stream",
          "name": "stdout",
          "text": [
            "Resumen de Test Cases (ignorando hora):\n",
            "➡️ Respuestas distintas el mismo día: 10 filas, 1 familias\n",
            "✅ Respuestas iguales el mismo día: 4 filas, 1 familias\n"
          ]
        }
      ]
    },
    {
      "cell_type": "code",
      "source": [
        "# Importing to csv\n",
        "same_day_diff_answers.to_csv(\"same_day_different_answers.csv\", index=False)\n",
        "same_day_same_answers.to_csv(\"same_day_same_answers.csv\", index=False)"
      ],
      "metadata": {
        "id": "b5261S1JyyOc"
      },
      "execution_count": null,
      "outputs": []
    }
  ]
}