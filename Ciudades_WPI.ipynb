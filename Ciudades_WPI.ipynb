{
  "nbformat": 4,
  "nbformat_minor": 0,
  "metadata": {
    "colab": {
      "provenance": [],
      "authorship_tag": "ABX9TyNqWY3OsXr7Ln9jjVO3Yv9r",
      "include_colab_link": true
    },
    "kernelspec": {
      "name": "python3",
      "display_name": "Python 3"
    },
    "language_info": {
      "name": "python"
    }
  },
  "cells": [
    {
      "cell_type": "markdown",
      "metadata": {
        "id": "view-in-github",
        "colab_type": "text"
      },
      "source": [
        "<a href=\"https://colab.research.google.com/github/alexisrisaldi/Data-deparment/blob/master/Ciudades_WPI.ipynb\" target=\"_parent\"><img src=\"https://colab.research.google.com/assets/colab-badge.svg\" alt=\"Open In Colab\"/></a>"
      ]
    },
    {
      "cell_type": "code",
      "execution_count": null,
      "metadata": {
        "id": "G0LUjtzI7sqB"
      },
      "outputs": [],
      "source": [
        "!pip install reverse_geocode\n",
        "!pip install XlsxWriter"
      ]
    },
    {
      "cell_type": "code",
      "source": [
        "import pandas as pd\n",
        "import reverse_geocode\n",
        "from shapely.geometry import Point\n",
        "import geopandas as gpd"
      ],
      "metadata": {
        "id": "5q9Q8HOk8Dhz"
      },
      "execution_count": null,
      "outputs": []
    },
    {
      "cell_type": "code",
      "source": [
        "# Leer una hoja específica llamada \"Familias\"\n",
        "df_families = pd.read_excel('Culture LightZ Survey.xlsx', sheet_name='Families')\n",
        "\n",
        "# Leer una hoja específica llamada \"Members\"\n",
        "df_members = pd.read_excel('Culture LightZ Survey.xlsx', sheet_name='Members')\n",
        "\n",
        "# Leer una hoja específica llamada \"Indicators\"\n",
        "df_indicators = pd.read_excel('Culture LightZ Survey.xlsx', sheet_name='Indicators')\n",
        "\n",
        "# Leer una hoja específica llamada \"Priorities\"\n",
        "df_priorities = pd.read_excel('Culture LightZ Survey.xlsx', sheet_name='Priorities')\n",
        "\n",
        "# Leer una hoja específica llamada \"Priorities\"\n",
        "df_achievements = pd.read_excel('Culture LightZ Survey.xlsx', sheet_name='Achievements')\n",
        "\n",
        "# Leer una hoja específica llamada \"Notes\"\n",
        "df_notes = pd.read_excel('Culture LightZ Survey.xlsx', sheet_name='Notes')\n",
        "\n",
        "# Leer una hoja específica llamada \"Interventions\"\n",
        "df_interventions = pd.read_excel('Culture LightZ Survey.xlsx', sheet_name='Interventions')"
      ],
      "metadata": {
        "id": "AwKQw4qP8Lmy"
      },
      "execution_count": null,
      "outputs": []
    },
    {
      "cell_type": "code",
      "source": [
        "df_families.count()"
      ],
      "metadata": {
        "id": "ZV6dwH2nNhgN"
      },
      "execution_count": null,
      "outputs": []
    },
    {
      "cell_type": "code",
      "source": [
        "#ordeno los campos de la hoja original\n",
        "df_families.sort_values(by=['Family code', 'Survey number'], inplace=True)"
      ],
      "metadata": {
        "id": "9C-SUEwB-M_N"
      },
      "execution_count": null,
      "outputs": []
    },
    {
      "cell_type": "code",
      "source": [
        "# crea un nuevo DF en base a algunas columnas especificas\n",
        "df_ciudades = df_families[['Family code', 'Survey number','Family location']]"
      ],
      "metadata": {
        "id": "OL82jWGQO0m5"
      },
      "execution_count": null,
      "outputs": []
    },
    {
      "cell_type": "code",
      "source": [
        "df_ciudades"
      ],
      "metadata": {
        "id": "7bM4uGy6PvJA"
      },
      "execution_count": null,
      "outputs": []
    },
    {
      "cell_type": "code",
      "source": [
        "df_ciudades['Family code'].value_counts()"
      ],
      "metadata": {
        "id": "Ar-06k2pQhi8"
      },
      "execution_count": null,
      "outputs": []
    },
    {
      "cell_type": "code",
      "source": [
        "# ordenar valores\n",
        "df_ciudades.sort_values(by=['Family code', 'Survey number'], inplace=True)"
      ],
      "metadata": {
        "id": "rPaktXe4SKge",
        "colab": {
          "base_uri": "https://localhost:8080/"
        },
        "outputId": "57d5fddc-6c77-43ee-e685-632205ed30e5"
      },
      "execution_count": null,
      "outputs": [
        {
          "output_type": "stream",
          "name": "stderr",
          "text": [
            "<ipython-input-96-f4314ce2be59>:2: SettingWithCopyWarning: \n",
            "A value is trying to be set on a copy of a slice from a DataFrame\n",
            "\n",
            "See the caveats in the documentation: https://pandas.pydata.org/pandas-docs/stable/user_guide/indexing.html#returning-a-view-versus-a-copy\n",
            "  df_ciudades.sort_values(by=['Family code', 'Survey number'], inplace=True)\n"
          ]
        }
      ]
    },
    {
      "cell_type": "code",
      "source": [
        "df_ciudades"
      ],
      "metadata": {
        "id": "nb-0U7P5SNY7"
      },
      "execution_count": null,
      "outputs": []
    },
    {
      "cell_type": "code",
      "source": [
        "# verificar si hay nulos\n",
        "df_ciudades['Family location'].isnull().sum()\n"
      ],
      "metadata": {
        "colab": {
          "base_uri": "https://localhost:8080/"
        },
        "id": "RDdXXUuKRspj",
        "outputId": "430a619c-4619-415b-99fa-f23cc1b7de4d"
      },
      "execution_count": null,
      "outputs": [
        {
          "output_type": "execute_result",
          "data": {
            "text/plain": [
              "np.int64(0)"
            ]
          },
          "metadata": {},
          "execution_count": 98
        }
      ]
    },
    {
      "cell_type": "code",
      "source": [
        "# Separar la columna 'Family location' en dos nuevas columnas\n",
        "df_ciudades[['Latitude', 'Longitude']] = df_ciudades['Family location'].str.split(';', expand=True)\n",
        "\n",
        "# Convertir las nuevas columnas a tipo numérico (float)\n",
        "df_ciudades['Latitude'] = df_ciudades['Latitude'].astype(float)\n",
        "df_ciudades['Longitude'] = df_ciudades['Longitude'].astype(float)\n"
      ],
      "metadata": {
        "id": "gjfzI0NnfBFk"
      },
      "execution_count": null,
      "outputs": []
    },
    {
      "cell_type": "code",
      "source": [
        "df_ciudades"
      ],
      "metadata": {
        "id": "SPC9nACFfFac"
      },
      "execution_count": null,
      "outputs": []
    },
    {
      "cell_type": "code",
      "source": [
        "#Funciones para convertir latitud y longitud en una nueva columna de ciudad y país (Asumiendo que el formato de las coordenadas sea correcto)\n",
        "def get_city(row):\n",
        "    coordinates = (row['Latitude'], row['Longitude'])\n",
        "    result = reverse_geocode.get(coordinates)\n",
        "    return result['city']\n",
        "\n",
        "def get_country(row):\n",
        "    coordinates = (row['Latitude'], row['Longitude'])\n",
        "    result = reverse_geocode.get(coordinates)\n",
        "    return result['country']"
      ],
      "metadata": {
        "id": "FTvpfzoY8bJZ"
      },
      "execution_count": null,
      "outputs": []
    },
    {
      "cell_type": "code",
      "source": [
        "df_ciudades['Country_Ver'] = df_ciudades.apply(get_country, axis=1)\n",
        "df_ciudades['City'] = df_ciudades.apply(get_city, axis=1)"
      ],
      "metadata": {
        "id": "7g0jaQTI8h5p"
      },
      "execution_count": null,
      "outputs": []
    },
    {
      "cell_type": "code",
      "source": [
        "#imprimir para ver si salio bien\n",
        "df_ciudades"
      ],
      "metadata": {
        "id": "Gc7WZPKOioBg"
      },
      "execution_count": null,
      "outputs": []
    },
    {
      "cell_type": "code",
      "source": [
        "df_city = df_ciudades[['Family code', 'Survey number','City','Country_Ver']]"
      ],
      "metadata": {
        "id": "s-H6TpvEgLo0"
      },
      "execution_count": null,
      "outputs": []
    },
    {
      "cell_type": "code",
      "source": [
        "df_city"
      ],
      "metadata": {
        "id": "1Yc3K5FrgyEj"
      },
      "execution_count": null,
      "outputs": []
    },
    {
      "cell_type": "code",
      "source": [
        "df_resultado_families = pd.merge(\n",
        "    df_families,\n",
        "    df_city,\n",
        "    on=['Family code', 'Survey number'],\n",
        "    how='inner'   # Tipo de join: inner, left, right, outer\n",
        ")"
      ],
      "metadata": {
        "id": "_Hx8feqXhTen"
      },
      "execution_count": null,
      "outputs": []
    },
    {
      "cell_type": "code",
      "source": [
        "df_resultado_families"
      ],
      "metadata": {
        "id": "pWsmOOVMharv"
      },
      "execution_count": null,
      "outputs": []
    },
    {
      "cell_type": "code",
      "source": [
        "df_resultado_families.drop(columns=['Family location'], inplace=True)\n"
      ],
      "metadata": {
        "id": "tqlSbtMvhtCQ"
      },
      "execution_count": null,
      "outputs": []
    },
    {
      "cell_type": "code",
      "source": [
        "df_resultado_families"
      ],
      "metadata": {
        "id": "vcI4HIAaCELp"
      },
      "execution_count": null,
      "outputs": []
    },
    {
      "cell_type": "code",
      "source": [
        "# Crear el archivo Excel con todas las hojas\n",
        "with pd.ExcelWriter('Culture LightZ Survey_New.xlsx', engine='xlsxwriter') as writer:\n",
        "    df_resultado_families.to_excel(writer, sheet_name='Families', index=False)\n",
        "    df_members.to_excel(writer, sheet_name='Members', index=False)\n",
        "    df_indicators.to_excel(writer, sheet_name='Indicators', index=False)\n",
        "    df_priorities.to_excel(writer, sheet_name='Priorities', index=False)\n",
        "    df_notes.to_excel(writer, sheet_name='Notes', index=False)\n",
        "    df_interventions.to_excel(writer, sheet_name='Interventions', index=False)\n",
        "    df_achievements.to_excel(writer, sheet_name='Achievements', index=False)"
      ],
      "metadata": {
        "id": "nE0FYdz3icdp"
      },
      "execution_count": null,
      "outputs": []
    },
    {
      "cell_type": "code",
      "source": [
        "# Descargar el archivo en tu PC\n",
        "from google.colab import files\n",
        "files.download('Aspire(Spanish)_new.xlsx')"
      ],
      "metadata": {
        "id": "A8lmjRdBkMlm",
        "colab": {
          "base_uri": "https://localhost:8080/",
          "height": 17
        },
        "outputId": "40fe379b-0924-4e50-f376-692066ce7d69"
      },
      "execution_count": null,
      "outputs": [
        {
          "output_type": "display_data",
          "data": {
            "text/plain": [
              "<IPython.core.display.Javascript object>"
            ],
            "application/javascript": [
              "\n",
              "    async function download(id, filename, size) {\n",
              "      if (!google.colab.kernel.accessAllowed) {\n",
              "        return;\n",
              "      }\n",
              "      const div = document.createElement('div');\n",
              "      const label = document.createElement('label');\n",
              "      label.textContent = `Downloading \"${filename}\": `;\n",
              "      div.appendChild(label);\n",
              "      const progress = document.createElement('progress');\n",
              "      progress.max = size;\n",
              "      div.appendChild(progress);\n",
              "      document.body.appendChild(div);\n",
              "\n",
              "      const buffers = [];\n",
              "      let downloaded = 0;\n",
              "\n",
              "      const channel = await google.colab.kernel.comms.open(id);\n",
              "      // Send a message to notify the kernel that we're ready.\n",
              "      channel.send({})\n",
              "\n",
              "      for await (const message of channel.messages) {\n",
              "        // Send a message to notify the kernel that we're ready.\n",
              "        channel.send({})\n",
              "        if (message.buffers) {\n",
              "          for (const buffer of message.buffers) {\n",
              "            buffers.push(buffer);\n",
              "            downloaded += buffer.byteLength;\n",
              "            progress.value = downloaded;\n",
              "          }\n",
              "        }\n",
              "      }\n",
              "      const blob = new Blob(buffers, {type: 'application/binary'});\n",
              "      const a = document.createElement('a');\n",
              "      a.href = window.URL.createObjectURL(blob);\n",
              "      a.download = filename;\n",
              "      div.appendChild(a);\n",
              "      a.click();\n",
              "      div.remove();\n",
              "    }\n",
              "  "
            ]
          },
          "metadata": {}
        },
        {
          "output_type": "display_data",
          "data": {
            "text/plain": [
              "<IPython.core.display.Javascript object>"
            ],
            "application/javascript": [
              "download(\"download_fd0fe2b5-90bd-4169-a313-8b97ef705470\", \"Aspire(Spanish)_new.xlsx\", 485851)"
            ]
          },
          "metadata": {}
        }
      ]
    }
  ]
}